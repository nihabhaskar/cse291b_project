{
 "cells": [
  {
   "cell_type": "code",
   "execution_count": 2,
   "metadata": {},
   "outputs": [],
   "source": [
    "import pandas as pd"
   ]
  },
  {
   "cell_type": "code",
   "execution_count": 16,
   "metadata": {},
   "outputs": [],
   "source": [
    "#Cell\n",
    "cell_data = pd.read_csv('transparency_report/transparency_reports.csv')\n",
    "cell_data = cell_data.dropna(subset=['Year'])\n",
    "tMobile = cell_data[lambda x: x.Carrier == \"T-Mobile\"]\n",
    "att = cell_data[lambda x: x.Carrier == \"AT&T\"]\n",
    "verizon = cell_data[lambda x: x.Carrier == \"Verizon\"]"
   ]
  },
  {
   "cell_type": "code",
   "execution_count": 32,
   "metadata": {},
   "outputs": [
    {
     "data": {
      "text/plain": [
       "Series([], Name: Wiretap Orders, dtype: float64)"
      ]
     },
     "execution_count": 32,
     "metadata": {},
     "output_type": "execute_result"
    }
   ],
   "source": [
    "cell_data[lambda x: x.Year == '2021']"
   ]
  },
  {
   "cell_type": "code",
   "execution_count": 30,
   "metadata": {},
   "outputs": [
    {
     "name": "stderr",
     "output_type": "stream",
     "text": [
      "/Users/jasonzuang/Library/Python/3.8/lib/python/site-packages/openpyxl/styles/stylesheet.py:226: UserWarning: Workbook contains no default style, apply openpyxl's default\n",
      "  warn(\"Workbook contains no default style, apply openpyxl's default\")\n"
     ]
    },
    {
     "name": "stdout",
     "output_type": "stream",
     "text": [
      "State                                         object\n",
      "Jurisdiction                                  object\n",
      "A.O. Number                                   object\n",
      "Judge                                         object\n",
      "Prosecutor                                    object\n",
      "Offense                                       object\n",
      "Type                                          object\n",
      "Location                                      object\n",
      "Application Date                      datetime64[ns]\n",
      "Original Order (Days)                        float64\n",
      "Number of Extensions                         float64\n",
      "Total Length (Days)                          float64\n",
      "Installation                                  object\n",
      "Number of Days in Operation                  float64\n",
      "Avg. Intercepts Per Day                      float64\n",
      "Number of Persons Intercepts                  object\n",
      "Number of Intercepts                          object\n",
      "Number of Incriminating Intercepts            object\n",
      "Total Cost($)                                float64\n",
      "Other Than Manpower Cost ($)                 float64\n",
      "Arrests                                      float64\n",
      "Trials                                       float64\n",
      "Motions Granted                              float64\n",
      "Motions Denied                               float64\n",
      "Motions Pending                              float64\n",
      "Persons Convicted                            float64\n",
      "Cost Related                                 float64\n",
      "Results Related                              float64\n",
      "dtype: object\n",
      "3665\n"
     ]
    }
   ],
   "source": [
    "#Fed\n",
    "fed21 = pd.read_excel('data/2021/wiretap_a1_1231.2021.xlsx', header=2)\n",
    "state21 = pd.read_excel('data/2021/wiretap_b1_1231.2021.xlsx', header=2)\n",
    "print(state21.dtypes)\n",
    "print(len(fed21) + len(state21))"
   ]
  }
 ],
 "metadata": {
  "kernelspec": {
   "display_name": "Python 3",
   "language": "python",
   "name": "python3"
  },
  "language_info": {
   "codemirror_mode": {
    "name": "ipython",
    "version": 3
   },
   "file_extension": ".py",
   "mimetype": "text/x-python",
   "name": "python",
   "nbconvert_exporter": "python",
   "pygments_lexer": "ipython3",
   "version": "3.8.9"
  },
  "orig_nbformat": 4
 },
 "nbformat": 4,
 "nbformat_minor": 2
}
