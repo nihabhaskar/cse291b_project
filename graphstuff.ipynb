{
 "cells": [
  {
   "cell_type": "code",
   "execution_count": null,
   "metadata": {},
   "outputs": [],
   "source": [
    "import numpy as np\n",
    "import pandas\n",
    "import pprint\n",
    "import matplotlib.pyplot as plt\n"
   ]
  },
  {
   "cell_type": "code",
   "execution_count": null,
   "metadata": {},
   "outputs": [],
   "source": [
    "transparency_csv = pandas.read_csv('transparency_report/transparency_combined.csv')\n",
    "print(transparency_csv)"
   ]
  },
  {
   "cell_type": "code",
   "execution_count": null,
   "metadata": {},
   "outputs": [],
   "source": [
    "tmob_wt = []\n",
    "tmob_prtt = []\n",
    "tmob_years = []\n",
    "\n",
    "verizon_wt = []\n",
    "verizon_prtt = []\n",
    "verizon_years = []\n",
    "\n",
    "att_wt = []\n",
    "att_prtt = []\n",
    "att_years = []\n",
    "\n",
    "for index, row in transparency_csv.iterrows():\n",
    "    if row['Carrier'] == \"T-Mobile\":\n",
    "        tmob_wt.append(row[\"Wiretap Orders\"])\n",
    "        tmob_prtt.append(row[\"PRTT\"])\n",
    "        tmob_years.append(row[\"Year\"])\n",
    "\n",
    "    if row['Carrier'] == \"Verizon\":\n",
    "        verizon_wt.append(row[\"Wiretap Orders\"])\n",
    "        verizon_prtt.append(row[\"PRTT\"])\n",
    "        verizon_years.append(row[\"Year\"])\n",
    "\n",
    "\n",
    "    if row['Carrier'] == \"AT&T\":\n",
    "        att_wt.append(row[\"Wiretap Orders\"])\n",
    "        att_prtt.append(row[\"PRTT\"])\n",
    "        att_years.append(row[\"Year\"])\n"
   ]
  },
  {
   "cell_type": "code",
   "execution_count": null,
   "metadata": {},
   "outputs": [],
   "source": [
    "fig, ax = plt.subplots()\n",
    "a, = ax.plot(tmob_years, tmob_wt, '.k-')\n",
    "b, = ax.plot(tmob_years, tmob_prtt, '.m-')\n",
    "ax.legend((a, b), ('Wiretap Orders', 'PRTT Orders'), shadow=True)\n",
    "ax.set_xlabel(\"Year\")\n",
    "ax.set_ylabel(\"Num of Orders Received\")\n",
    "ax.set_title(\"T-Mobile\")\n",
    "plt.show()"
   ]
  },
  {
   "cell_type": "code",
   "execution_count": null,
   "metadata": {},
   "outputs": [],
   "source": [
    "# plt.plot(verizon_years, verizon_wt, '.r-')\n",
    "# plt.xlabel(\"Year\")\n",
    "# plt.ylabel(\"Num of Wiretaps\")\n",
    "# plt.title(\"Verizon\")\n",
    "# plt.show()\n",
    "\n",
    "fig, ax = plt.subplots()\n",
    "a, = ax.plot(verizon_years, verizon_wt, '.k-')\n",
    "b, = ax.plot(verizon_years, verizon_prtt, '.r-')\n",
    "ax.legend((a, b), ('Wiretap Orders', 'PRTT Orders'), shadow=True)\n",
    "ax.set_xlabel(\"Year\")\n",
    "ax.set_ylabel(\"Num of Orders Received\")\n",
    "ax.set_title(\"Verizon\")\n",
    "plt.show()"
   ]
  },
  {
   "cell_type": "code",
   "execution_count": null,
   "metadata": {},
   "outputs": [],
   "source": [
    "# plt.plot(att_years, att_wt, '.b-')\n",
    "# plt.xlabel(\"Year\")\n",
    "# plt.ylabel(\"Num of Wiretaps\")\n",
    "# plt.title(\"AT&T\")\n",
    "# plt.show()\n",
    "\n",
    "fig, ax = plt.subplots()\n",
    "a, = ax.plot(att_years, att_wt, '.k-')\n",
    "b, = ax.plot(att_years, att_prtt, '.b-')\n",
    "ax.legend((a, b), ('Wiretap Orders', 'PRTT Orders'), shadow=True)\n",
    "ax.set_xlabel(\"Year\")\n",
    "ax.set_ylabel(\"Num of Orders Received\")\n",
    "ax.set_title(\"AT&T\")\n",
    "plt.show()"
   ]
  },
  {
   "cell_type": "code",
   "execution_count": null,
   "metadata": {},
   "outputs": [],
   "source": [
    "fig, ax = plt.subplots()\n",
    "a, = ax.plot(att_years, att_wt, '.b-')\n",
    "b, = ax.plot(verizon_years, verizon_wt, '.r-')\n",
    "c, = ax.plot(tmob_years, tmob_wt, '.m-')\n",
    "ax.legend((a, b, c), ('AT&T', 'Verizon', 'T-Mobile'), shadow=True)\n",
    "ax.set_xlabel(\"Year\")\n",
    "ax.set_ylabel(\"Num of Orders Received\")\n",
    "ax.set_title(\"Wiretap Orders\")\n",
    "plt.show()"
   ]
  },
  {
   "cell_type": "code",
   "execution_count": null,
   "metadata": {},
   "outputs": [],
   "source": [
    "fig, ax = plt.subplots()\n",
    "a, = ax.plot(att_years, att_prtt, '.b-')\n",
    "b, = ax.plot(verizon_years, verizon_prtt, '.r-')\n",
    "c, = ax.plot(tmob_years, tmob_prtt, '.m-')\n",
    "ax.legend((a, b, c), ('AT&T', 'Verizon', 'T-Mobile'), shadow=True)\n",
    "ax.set_xlabel(\"Year\")\n",
    "ax.set_ylabel(\"Num of Orders Received\")\n",
    "ax.set_title(\"PRTT Orders\")\n",
    "plt.show()"
   ]
  }
 ],
 "metadata": {
  "kernelspec": {
   "display_name": ".venv",
   "language": "python",
   "name": "python3"
  },
  "language_info": {
   "codemirror_mode": {
    "name": "ipython",
    "version": 3
   },
   "file_extension": ".py",
   "mimetype": "text/x-python",
   "name": "python",
   "nbconvert_exporter": "python",
   "pygments_lexer": "ipython3",
   "version": "3.9.6"
  },
  "orig_nbformat": 4,
  "vscode": {
   "interpreter": {
    "hash": "41c20d78bd4dd3fb787c60b0489f1bf1a13a165c1f261b7e331496cf4f7bac01"
   }
  }
 },
 "nbformat": 4,
 "nbformat_minor": 2
}
